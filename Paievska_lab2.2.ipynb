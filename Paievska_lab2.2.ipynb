{
 "cells": [
  {
   "cell_type": "markdown",
   "id": "9966625f-321e-42e5-86cf-6f15ff518d6f",
   "metadata": {},
   "source": [
    "## Лабораторна робота 2.2"
   ]
  },
  {
   "cell_type": "markdown",
   "id": "9217af25-0963-4b17-b422-2ad44a479b6a",
   "metadata": {},
   "source": [
    "### Завдання: Побудувати двонаправлену RNN для розрахунку функції із шумом. \r\n",
    "Підібрати власну архитектуру, кількість шарів, функції активації.\r\n",
    "Побудувати графік.\r\n",
    "N = 10000\r\n",
    "data = np.array([np.функція for x in range(N)]) + 0.1*np.random.randn(N)\r\n",
    "В якості функції взяти тригонометричну фу.нкцію"
   ]
  },
  {
   "cell_type": "code",
   "execution_count": 1,
   "id": "5743974e-0894-490a-b725-8e96959a4dbb",
   "metadata": {},
   "outputs": [],
   "source": [
    "#Іпортуємо всі необхідні бібліотеки\n",
    "import os\n",
    "\n",
    "import numpy as np\n",
    "import matplotlib.pyplot as plt\n",
    "\n",
    "from tensorflow.keras.layers import Dense, GRU, Input, Dropout, Bidirectional\n",
    "from tensorflow.keras.models import Sequential\n",
    "from tensorflow.keras.optimizers import Adam"
   ]
  },
  {
   "cell_type": "code",
   "execution_count": null,
   "id": "ec8cf40e-d3e4-463d-8a44-6c8528c8b16a",
   "metadata": {},
   "outputs": [
    {
     "name": "stdout",
     "output_type": "stream",
     "text": [
      "(9993, 6, 6)\n",
      "(9993,)\n",
      "Model: \"sequential\"\n",
      "_________________________________________________________________\n",
      " Layer (type)                Output Shape              Param #   \n",
      "=================================================================\n",
      " bidirectional (Bidirectiona  (None, 4)                120       \n",
      " l)                                                              \n",
      "                                                                 \n",
      " dense (Dense)               (None, 1)                 5         \n",
      "                                                                 \n",
      "=================================================================\n",
      "Total params: 125\n",
      "Trainable params: 125\n",
      "Non-trainable params: 0\n",
      "_________________________________________________________________\n",
      "Epoch 1/25\n",
      "157/157 [==============================] - 4s 4ms/step - loss: 0.0654\n",
      "Epoch 2/25\n",
      "157/157 [==============================] - 1s 4ms/step - loss: 0.0159\n",
      "Epoch 3/25\n",
      "157/157 [==============================] - 1s 4ms/step - loss: 0.0144\n",
      "Epoch 4/25\n",
      "157/157 [==============================] - 1s 4ms/step - loss: 0.0137\n",
      "Epoch 5/25\n",
      "157/157 [==============================] - 1s 4ms/step - loss: 0.0132\n",
      "Epoch 6/25\n",
      "157/157 [==============================] - 0s 3ms/step - loss: 0.0132\n",
      "Epoch 7/25\n",
      "157/157 [==============================] - 0s 3ms/step - loss: 0.0129\n",
      "Epoch 8/25\n",
      "157/157 [==============================] - 1s 3ms/step - loss: 0.0129\n",
      "Epoch 9/25\n",
      "157/157 [==============================] - 1s 3ms/step - loss: 0.0128\n",
      "Epoch 10/25\n",
      " 17/157 [==>...........................] - ETA: 0s - loss: 0.0129"
     ]
    }
   ],
   "source": [
    "# Генеруємо випадкові дані: функцію косінус з доданим шумом\n",
    "N = 10000\n",
    "data = np.array([np.cos(x + (np.pi / 3)) for x in range(N)]) + 0.1*np.random.randn(N)\n",
    "plt.plot(data[:100])\n",
    "\n",
    "# Визначаємо параметри для створення вхідних та вихідних даних для моделі\n",
    "off = 3\n",
    "length = off*2+1\n",
    "# Створюємо вхідні дані (X) та вихідні дані (Y) для моделі\n",
    "X = np.array([ np.diag(np.hstack((data[i:i+off], data[i+off+1:i+length]))) for i in range(N-length)])\n",
    "Y = data[off:N-off-1]\n",
    "print(X.shape, Y.shape, sep='\\n')\n",
    "\n",
    "# Створюємо  та навчаємо модель нейронної мережі\n",
    "model = Sequential()\n",
    "model.add(Input((length-1, length-1)))\n",
    "model.add( Bidirectional(GRU(2)) )\n",
    "model.add(Dense(1, activation='linear'))\n",
    "model.summary()\n",
    "model.compile(loss='mean_squared_error', optimizer=Adam(0.01))\n",
    "\n",
    "history = model.fit(X, Y, batch_size=64, epochs=25)\n",
    "\n",
    "# Генеруємо нові дані за допомогою навченої моделі та порівнюємо їх з початковими\n",
    "M = 200\n",
    "XX = np.zeros(M)\n",
    "XX[:off] = data[:off]\n",
    "for i in range(M-off-1):\n",
    "  x = np.diag( np.hstack( (XX[i:i+off], data[i+off+1:i+length])) )\n",
    "  x = np.expand_dims(x, axis=0)\n",
    "  y = model.predict(x)\n",
    "  XX[i+off] = y\n",
    "\n",
    "# Відображаємо результати порівняння XX і початкових даних на графіку\n",
    "plt.plot(XX[:M])\n",
    "plt.plot(data[:M])\n",
    "plt.grid()\n",
    "plt.show()"
   ]
  },
  {
   "cell_type": "markdown",
   "id": "46bfecd2-8a3b-4e11-b776-0695c60b6459",
   "metadata": {},
   "source": [
    "### Висновок:\n",
    "На лабораторній роботі, я навчилася будувати двонаправлену RNN для розрахунку функції із шумом."
   ]
  }
 ],
 "metadata": {
  "kernelspec": {
   "display_name": "Python 3 (ipykernel)",
   "language": "python",
   "name": "python3"
  },
  "language_info": {
   "codemirror_mode": {
    "name": "ipython",
    "version": 3
   },
   "file_extension": ".py",
   "mimetype": "text/x-python",
   "name": "python",
   "nbconvert_exporter": "python",
   "pygments_lexer": "ipython3",
   "version": "3.11.3"
  }
 },
 "nbformat": 4,
 "nbformat_minor": 5
}
